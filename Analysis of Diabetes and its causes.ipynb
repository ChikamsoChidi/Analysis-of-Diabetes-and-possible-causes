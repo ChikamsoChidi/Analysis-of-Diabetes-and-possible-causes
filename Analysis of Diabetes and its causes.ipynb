{
 "cells": [
  {
   "cell_type": "markdown",
   "id": "a2ce1296",
   "metadata": {},
   "source": [
    "# Analysis of Diabetes and its causes "
   ]
  },
  {
   "cell_type": "markdown",
   "id": "8c48606f",
   "metadata": {},
   "source": [
    "## Loading the data "
   ]
  },
  {
   "cell_type": "code",
   "execution_count": null,
   "id": "7aa9d0ba",
   "metadata": {},
   "outputs": [],
   "source": [
    "%matplotlib inline \n",
    "import matplotlib.pyplot as plt \n",
    "import seaborn as sns \n",
    "import numpy as np \n",
    "import pandas as pd \n",
    "from warnings import filterwarnings\n",
    "filterwarnings(\"ignore\") "
   ]
  },
  {
   "cell_type": "code",
   "execution_count": null,
   "id": "c1d1eae7",
   "metadata": {},
   "outputs": [],
   "source": [
    "#import the data\n",
    "db = pd.read_csv(\"diabetes.csv\")"
   ]
  },
  {
   "cell_type": "code",
   "execution_count": null,
   "id": "652a8d3b",
   "metadata": {
    "scrolled": true
   },
   "outputs": [],
   "source": [
    "#view the first rows\n",
    "db.head()"
   ]
  },
  {
   "cell_type": "code",
   "execution_count": null,
   "id": "de7213c3",
   "metadata": {},
   "outputs": [],
   "source": [
    "#view the last rows\n",
    "db.tail()"
   ]
  },
  {
   "cell_type": "code",
   "execution_count": null,
   "id": "9b068458",
   "metadata": {
    "scrolled": true
   },
   "outputs": [],
   "source": [
    "#get information on the name, type an amount of non-null values.\n",
    "db.info()"
   ]
  },
  {
   "cell_type": "code",
   "execution_count": null,
   "id": "89120dc6",
   "metadata": {},
   "outputs": [],
   "source": [
    "db.Outcome.replace(1, True, inplace=True)\n",
    "db.Outcome.replace(0,False,inplace = True )\n"
   ]
  },
  {
   "cell_type": "markdown",
   "id": "3326530d",
   "metadata": {},
   "source": [
    "## Exploratory data analysis "
   ]
  },
  {
   "cell_type": "markdown",
   "id": "3dba1f16",
   "metadata": {},
   "source": [
    "### What is the ratio of patients with diabetes"
   ]
  },
  {
   "cell_type": "code",
   "execution_count": null,
   "id": "5d67ba71",
   "metadata": {},
   "outputs": [],
   "source": [
    "def value_count (count,having = None,data=db ):\n",
    "    if having != None:\n",
    "        ans = data.groupby(having)[count].count()\n",
    "    else: \n",
    "        ans = data.groupby(count)[count].count()\n",
    "    return ans"
   ]
  },
  {
   "cell_type": "code",
   "execution_count": null,
   "id": "ebcbb3bb",
   "metadata": {},
   "outputs": [],
   "source": [
    "def percent (num, total= None ):\n",
    "    if type(num) is int:\n",
    "        ans = (num/total)*100 \n",
    "    else:\n",
    "        for i in num:\n",
    "            ans = []\n",
    "            ans.append((num/sum(num))*100)\n",
    "    return ans\n",
    "        "
   ]
  },
  {
   "cell_type": "code",
   "execution_count": null,
   "id": "39871476",
   "metadata": {},
   "outputs": [],
   "source": [
    "out_vc=value_count(\"Outcome\")\n",
    "out_vc"
   ]
  },
  {
   "cell_type": "code",
   "execution_count": null,
   "id": "86952b53",
   "metadata": {
    "scrolled": true
   },
   "outputs": [],
   "source": [
    "label1 = \"Non-\\ndiabetic \\n\" + str(round (percent(out_vc)[0][0], 1))+\"%\"\n",
    "label2 = \"Diabetic \\n\" + str(round(percent(out_vc)[0][1],1))+\"%\"\n",
    "label_m = [\"Diabetic\",\"Non Diabetic\"]\n",
    "plt.pie(out_vc, labels=[label1,label2], labeldistance=0.4)\n",
    "plt.show()"
   ]
  },
  {
   "cell_type": "markdown",
   "id": "62f3a287",
   "metadata": {},
   "source": [
    "**65.1%** of the those interviewed were **Not Diabetic**, while **34.9%** of them were **Diabetic**."
   ]
  },
  {
   "cell_type": "code",
   "execution_count": null,
   "id": "43cc6d9a",
   "metadata": {},
   "outputs": [],
   "source": [
    "label_m"
   ]
  },
  {
   "cell_type": "markdown",
   "id": "ee10cc80",
   "metadata": {},
   "source": [
    "## Analyse the age distribution of the candidates"
   ]
  },
  {
   "cell_type": "code",
   "execution_count": null,
   "id": "c3106627",
   "metadata": {
    "scrolled": false
   },
   "outputs": [],
   "source": [
    "for i in [True,False]:\n",
    "    db1=db[db[\"Outcome\"] == i]\n",
    "    sns.distplot(db1[\"Age\"],90)\n",
    "plt.legend(label_m)\n",
    "plt.title(\"Outcome\")\n",
    "plt.show()"
   ]
  },
  {
   "cell_type": "markdown",
   "id": "d7f315b8",
   "metadata": {},
   "source": [
    "The distribution of the **ages** show a bias in the data. The data was majorly coallated from people between the ages of **20 to 25**. This might affect the analysis of the data."
   ]
  },
  {
   "cell_type": "markdown",
   "id": "977b5978",
   "metadata": {},
   "source": [
    "## Analyse the distribution of pregnancies of the candidates"
   ]
  },
  {
   "cell_type": "code",
   "execution_count": null,
   "id": "b33eb8e8",
   "metadata": {
    "scrolled": false
   },
   "outputs": [],
   "source": [
    "for i in [True,False]:\n",
    "    db1=db[db[\"Outcome\"] == i]\n",
    "    sns.distplot(db1[\"Pregnancies\"],20)\n",
    "    \n",
    "plt.legend(label_m)\n",
    "plt.title(\"Outcome\")\n",
    "plt.show()"
   ]
  },
  {
   "cell_type": "markdown",
   "id": "9cccb2b6",
   "metadata": {},
   "source": [
    "Most of the candidates without diabetes had had 0 to 5 **pregnancies**. Meanwhile, those with **diabetes** had had a more even spread of **pregnancies** between 0 and 10"
   ]
  },
  {
   "cell_type": "code",
   "execution_count": null,
   "id": "3da735fd",
   "metadata": {
    "scrolled": true
   },
   "outputs": [],
   "source": [
    "sns.scatterplot(\"Age\",\"Pregnancies\",hue= \"Outcome\",data= db)"
   ]
  },
  {
   "cell_type": "markdown",
   "id": "7e2f1696",
   "metadata": {},
   "source": [
    "The **older** the people get the more their **pregnancies** but pregnancies do not seem to affect the probability that the person has **diabetes**."
   ]
  },
  {
   "cell_type": "markdown",
   "id": "1e9205dd",
   "metadata": {},
   "source": [
    "## Analyse the BMI of the candidates"
   ]
  },
  {
   "cell_type": "code",
   "execution_count": null,
   "id": "d6dc52db",
   "metadata": {
    "scrolled": true
   },
   "outputs": [],
   "source": [
    "for i in [True,False]:\n",
    "    db1=db[db[\"Outcome\"] == i]\n",
    "    sns.distplot(db1[\"BMI\"],60,label=str(i))\n",
    "plt.legend(label_m)\n",
    "plt.title(\"Outcome\")\n",
    "plt.show()"
   ]
  },
  {
   "cell_type": "markdown",
   "id": "02d60e7c",
   "metadata": {},
   "source": [
    "The **BMI** for **non-diabetic** patients peak at about 33. This shows that most of the candidates with **diabetes** had a **BMI**  within the range of 30 to 40. It also shows some whose **BMI** were not recorded."
   ]
  },
  {
   "cell_type": "code",
   "execution_count": null,
   "id": "e3bcd64c",
   "metadata": {
    "scrolled": true
   },
   "outputs": [],
   "source": [
    "sns.violinplot(\"Outcome\",\"BMI\",data = db)"
   ]
  },
  {
   "cell_type": "markdown",
   "id": "fbc38b0c",
   "metadata": {},
   "source": [
    "The distribution of the **BMI** for the **Diabetic** and **Non-diabetic** patients are similar, this suggests that **BMI** has no relationship with the **outcome**."
   ]
  },
  {
   "cell_type": "markdown",
   "id": "037ec33a",
   "metadata": {},
   "source": [
    "## Analyse the amount of Glucose intake of the candidates"
   ]
  },
  {
   "cell_type": "code",
   "execution_count": null,
   "id": "811b14f7",
   "metadata": {
    "scrolled": true
   },
   "outputs": [],
   "source": [
    "for i in [True,False]:\n",
    "    db1=db[db[\"Outcome\"] == i]\n",
    "    sns.distplot(db1[\"Glucose\"],60)\n",
    "plt.legend(label_m)\n",
    "plt.title(\"Outcome\")\n",
    "plt.show()"
   ]
  },
  {
   "cell_type": "markdown",
   "id": "6e0bfb7e",
   "metadata": {},
   "source": [
    "Most of those **without Diabetes** have a glucose intake of about **100g**. The density of the glucose intake of those with **diabetes** shifted further to the right showing that those with **diabetes** had **high levels of glucose**. \n"
   ]
  },
  {
   "cell_type": "code",
   "execution_count": null,
   "id": "ea80c1e3",
   "metadata": {
    "scrolled": false
   },
   "outputs": [],
   "source": [
    "sns.boxplot(y=\"Glucose\",x=\"Outcome\",data = db)\n",
    "plt.xticks()"
   ]
  },
  {
   "cell_type": "markdown",
   "id": "89fbbb34",
   "metadata": {},
   "source": [
    "Those with diabetes tend to have more glucose than those without further suggesting that higher glucose in **higher** chance of getting **diabetes**."
   ]
  }
 ],
 "metadata": {
  "kernelspec": {
   "display_name": "Python 3 (ipykernel)",
   "language": "python",
   "name": "python3"
  },
  "language_info": {
   "codemirror_mode": {
    "name": "ipython",
    "version": 3
   },
   "file_extension": ".py",
   "mimetype": "text/x-python",
   "name": "python",
   "nbconvert_exporter": "python",
   "pygments_lexer": "ipython3",
   "version": "3.9.7"
  }
 },
 "nbformat": 4,
 "nbformat_minor": 5
}
